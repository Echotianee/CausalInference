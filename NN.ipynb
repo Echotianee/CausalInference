{
  "cells": [
    {
      "cell_type": "code",
      "execution_count": null,
      "id": "d5KF1BmMBDuC",
      "metadata": {
        "id": "d5KF1BmMBDuC"
      },
      "outputs": [],
      "source": [
        "# from google.colab import drive\n",
        "# drive.mount('/content/drive')\n",
        "\n",
        "# %cd /content/drive/MyDrive/MASTERS/1st Semester/CAUSAL_INFERENCE_NEW/PROJECT/CNN_MODEL"
      ]
    },
    {
      "cell_type": "code",
      "execution_count": null,
      "id": "3f19890938ce2c77",
      "metadata": {
        "id": "3f19890938ce2c77"
      },
      "outputs": [],
      "source": [
        "import pandas as pd\n",
        "import numpy as np\n",
        "import matplotlib.pyplot as plt\n",
        "import seaborn as sns"
      ]
    },
    {
      "cell_type": "code",
      "execution_count": null,
      "id": "f031a1e2f99520dd",
      "metadata": {
        "id": "f031a1e2f99520dd"
      },
      "outputs": [],
      "source": [
        "event_data_og = pd.read_csv('processed_data/processed_events_final.csv', sep='|')\n",
        "event_data_og = event_data_og.drop(columns=[\"TIMESTAMP_EVENT\",'PAGE_SECTION','PAGE_SECTION_POSITION','DEVICE_INFO_BROWSER','TIME',\n",
        "                                      'DEVICE_INFO_BRAND','DEVICE_INFO_TYPE','USER_SESSION_ID','DATE','purchases_30_day_after',\n",
        "                                      'total_spend_on_category_product','total_spend_on_product','date'])\n",
        "\n",
        "#Due to having na values\n",
        "event_data_og = event_data_og.drop(columns=[\"PAGE_NAME\",\"PRODUCT_TYPE\",\"USER_PROMOTIONS_ALLOWED\"])\n",
        "\n",
        "#Due to too many unique values\n",
        "# event_data = event_data.drop(columns=[\"PROPOSITION\",'purchases_7_day_after']) #CAN REPLACE WITH USER CLUSTER IF YOU IMPLEMENT IT\n",
        "event_data_og = event_data_og.drop(columns=['EVENT','PROPOSITION','USER_CLIENT_NUMBER'])"
      ]
    },
    {
      "cell_type": "code",
      "execution_count": null,
      "id": "3ccdaba7",
      "metadata": {
        "id": "3ccdaba7"
      },
      "outputs": [],
      "source": [
        "event_data = event_data_og.sample(frac=.6, random_state=42)"
      ]
    },
    {
      "cell_type": "code",
      "execution_count": null,
      "id": "wUcuTchUKRsu",
      "metadata": {
        "colab": {
          "base_uri": "https://localhost:8080/"
        },
        "id": "wUcuTchUKRsu",
        "outputId": "cc145108-60b7-4878-c65e-9c1f1034d799"
      },
      "outputs": [
        {
          "data": {
            "text/plain": [
              "['ARTICLE_CATEGORIE',\n",
              " 'PROMOTION_LABEL',\n",
              " 'USER_SALES_GROUP',\n",
              " 'USER_SEGMENT',\n",
              " 'USER_SALES_DISTRICT',\n",
              " 'purchases_7_day_after',\n",
              " 'temperature',\n",
              " 'temperature_lead_1',\n",
              " 'temperature_lead_2',\n",
              " 'temperature_lead_3',\n",
              " 'temperature_lead_4']"
            ]
          },
          "execution_count": 128,
          "metadata": {},
          "output_type": "execute_result"
        }
      ],
      "source": [
        "# All the column names that include \"price\"or \"precip\" in list format case insensitive\n",
        "numeric_variables = [col for col in event_data.columns if any(substring.lower() in col.lower() for substring in [\"price\", \"precip\"])]\n",
        "\n",
        "#All the collumns excpet the ones in numeric_variables and EVENT\n",
        "categorical_variables = [col for col in event_data.columns if col not in numeric_variables]"
      ]
    },
    {
      "cell_type": "code",
      "execution_count": null,
      "id": "XtqS27auA3B9",
      "metadata": {
        "id": "XtqS27auA3B9"
      },
      "outputs": [],
      "source": [
        "# Split the column into multiple columns\n",
        "split_columns = event_data['ARTICLE_CATEGORIE'].str.split(',', expand=True)\n",
        "\n",
        "#Optionally, rename the columns for better readability\n",
        "split_columns.columns = ['article_part1', 'article_part2', 'article_part3', 'article_part4']\n",
        "\n",
        "#Create new collumns based on division\n",
        "split_columns['article_part2'] = split_columns['article_part1'] + ',' + split_columns['article_part2']\n",
        "split_columns['article_part3'] = split_columns['article_part2'] + ',' + split_columns['article_part3']\n",
        "split_columns['article_part4'] = split_columns['article_part3'] + ',' + split_columns['article_part4']\n",
        "\n",
        "# Concatenate the new columns back to the original DataFrame if needed\n",
        "event_data = pd.concat([event_data, split_columns], axis=1)\n",
        "\n",
        "#Drop the original 'ARTICLE_CATEGORIE' column\n",
        "event_data.drop(['ARTICLE_CATEGORIE','article_part1'], axis=1,inplace=True)"
      ]
    },
    {
      "cell_type": "code",
      "execution_count": null,
      "id": "b2b949ebc851c30c",
      "metadata": {
        "id": "b2b949ebc851c30c"
      },
      "outputs": [],
      "source": [
        "# Vectorized operations to create binary columns\n",
        "event_data['purchased_7_days_after_binary'] = (event_data['purchases_7_day_after'] > 0).astype(int)\n",
        "# event_data['purchased_30_days_after_binary'] = (event_data['purchases_30_day_after'] > 0).astype(int)\n",
        "\n",
        "event_data.drop(columns=['purchases_7_day_after'],inplace=True)"
      ]
    },
    {
      "cell_type": "code",
      "execution_count": null,
      "id": "_z2XdTUlLFn6",
      "metadata": {
        "id": "_z2XdTUlLFn6"
      },
      "outputs": [],
      "source": [
        "event_data['PROMOTION_PRICE'] = event_data['PROMOTION_PRICE'].fillna(event_data['PRICE'])\n",
        "\n",
        "#Replace na values in PROMOTION_LABEL collumn with \"No_Promotion\"\n",
        "event_data['PROMOTION_LABEL'] = event_data['PROMOTION_LABEL'].fillna(\"No_Promotion\")\n",
        "\n",
        "#Drop rows that has na values\n",
        "event_data.dropna(inplace=True)\n",
        "\n",
        "# All the column names that include \"price\"or \"precip\" in list format case insensitive\n",
        "numeric_variables = [col for col in event_data.columns if any(substring.lower() in col.lower() for substring in [\"price\", \"precip\",'temperature'])]\n",
        "numeric_variables\n",
        "\n",
        "#All the collumns excpet the ones in numeric_variables and EVENT\n",
        "categorical_variables = [col for col in event_data.columns if col not in numeric_variables and col != \"EVENT\"]\n",
        "categorical_variables\n",
        "\n",
        "target_variable = 'purchased_7_days_after_binary'"
      ]
    },
    {
      "cell_type": "code",
      "execution_count": null,
      "id": "3sdic51bSvMM",
      "metadata": {
        "id": "3sdic51bSvMM"
      },
      "outputs": [],
      "source": [
        "tiny_transformed_event_df = event_data"
      ]
    },
    {
      "cell_type": "code",
      "execution_count": null,
      "id": "ec77f9f18911278f",
      "metadata": {
        "id": "ec77f9f18911278f"
      },
      "outputs": [],
      "source": [
        "from sklearn.model_selection import train_test_split\n",
        "from sklearn.ensemble import RandomForestRegressor\n",
        "from sklearn.metrics import mean_squared_error\n",
        "from sklearn.metrics import mean_absolute_error\n",
        "from sklearn.metrics import r2_score\n",
        "from sklearn.preprocessing import StandardScaler\n",
        "from sklearn.metrics import classification_report\n",
        "\n",
        "import torch\n",
        "from torch import nn\n",
        "from torch.utils.data import DataLoader"
      ]
    },
    {
      "cell_type": "code",
      "execution_count": null,
      "id": "OrODsRMTUZBe",
      "metadata": {
        "id": "OrODsRMTUZBe",
        "outputId": "7fb9c0a4-7f92-4eb0-9e29-1196af7a1546"
      },
      "outputs": [
        {
          "ename": "MemoryError",
          "evalue": "Unable to allocate 11.2 GiB for an array with shape (917, 3284229) and data type int32",
          "output_type": "error",
          "traceback": [
            "\u001b[1;31m---------------------------------------------------------------------------\u001b[0m",
            "\u001b[1;31mMemoryError\u001b[0m                               Traceback (most recent call last)",
            "Cell \u001b[1;32mIn[134], line 10\u001b[0m\n\u001b[0;32m      7\u001b[0m nonnumeric_variables\n\u001b[0;32m      9\u001b[0m \u001b[38;5;66;03m#From te event_data create a dataset where it converts all nonnumeric_variables to dummies\u001b[39;00m\n\u001b[1;32m---> 10\u001b[0m tiny_transformed_event_df \u001b[38;5;241m=\u001b[39m \u001b[43mpd\u001b[49m\u001b[38;5;241;43m.\u001b[39;49m\u001b[43mget_dummies\u001b[49m\u001b[43m(\u001b[49m\u001b[43mevent_data\u001b[49m\u001b[43m,\u001b[49m\u001b[43m \u001b[49m\u001b[43mcolumns\u001b[49m\u001b[38;5;241;43m=\u001b[39;49m\u001b[43mnonnumeric_variables\u001b[49m\u001b[43m,\u001b[49m\u001b[43mdtype\u001b[49m\u001b[43m \u001b[49m\u001b[38;5;241;43m=\u001b[39;49m\u001b[43m \u001b[49m\u001b[38;5;28;43mint\u001b[39;49m\u001b[43m)\u001b[49m\n\u001b[0;32m     12\u001b[0m \u001b[38;5;66;03m#From tiny_transformed_event_df select nonnumeric collumns names that doesn't have EVENT or numeric_variables in it\u001b[39;00m\n\u001b[0;32m     13\u001b[0m categorical_variables \u001b[38;5;241m=\u001b[39m [col \u001b[38;5;28;01mfor\u001b[39;00m col \u001b[38;5;129;01min\u001b[39;00m tiny_transformed_event_df\u001b[38;5;241m.\u001b[39mcolumns \u001b[38;5;28;01mif\u001b[39;00m((col \u001b[38;5;129;01mnot\u001b[39;00m \u001b[38;5;129;01min\u001b[39;00m numeric_variables) \u001b[38;5;241m&\u001b[39m (col \u001b[38;5;129;01mnot\u001b[39;00m \u001b[38;5;129;01min\u001b[39;00m target_variable))]\n",
            "File \u001b[1;32mc:\\Users\\doruk\\anaconda3\\Lib\\site-packages\\pandas\\core\\reshape\\encoding.py:209\u001b[0m, in \u001b[0;36mget_dummies\u001b[1;34m(data, prefix, prefix_sep, dummy_na, columns, sparse, drop_first, dtype)\u001b[0m\n\u001b[0;32m    205\u001b[0m     with_dummies \u001b[38;5;241m=\u001b[39m [data\u001b[38;5;241m.\u001b[39mselect_dtypes(exclude\u001b[38;5;241m=\u001b[39mdtypes_to_encode)]\n\u001b[0;32m    207\u001b[0m \u001b[38;5;28;01mfor\u001b[39;00m col, pre, sep \u001b[38;5;129;01min\u001b[39;00m \u001b[38;5;28mzip\u001b[39m(data_to_encode\u001b[38;5;241m.\u001b[39mitems(), prefix, prefix_sep):\n\u001b[0;32m    208\u001b[0m     \u001b[38;5;66;03m# col is (column_name, column), use just column data here\u001b[39;00m\n\u001b[1;32m--> 209\u001b[0m     dummy \u001b[38;5;241m=\u001b[39m \u001b[43m_get_dummies_1d\u001b[49m\u001b[43m(\u001b[49m\n\u001b[0;32m    210\u001b[0m \u001b[43m        \u001b[49m\u001b[43mcol\u001b[49m\u001b[43m[\u001b[49m\u001b[38;5;241;43m1\u001b[39;49m\u001b[43m]\u001b[49m\u001b[43m,\u001b[49m\n\u001b[0;32m    211\u001b[0m \u001b[43m        \u001b[49m\u001b[43mprefix\u001b[49m\u001b[38;5;241;43m=\u001b[39;49m\u001b[43mpre\u001b[49m\u001b[43m,\u001b[49m\n\u001b[0;32m    212\u001b[0m \u001b[43m        \u001b[49m\u001b[43mprefix_sep\u001b[49m\u001b[38;5;241;43m=\u001b[39;49m\u001b[43msep\u001b[49m\u001b[43m,\u001b[49m\n\u001b[0;32m    213\u001b[0m \u001b[43m        \u001b[49m\u001b[43mdummy_na\u001b[49m\u001b[38;5;241;43m=\u001b[39;49m\u001b[43mdummy_na\u001b[49m\u001b[43m,\u001b[49m\n\u001b[0;32m    214\u001b[0m \u001b[43m        \u001b[49m\u001b[43msparse\u001b[49m\u001b[38;5;241;43m=\u001b[39;49m\u001b[43msparse\u001b[49m\u001b[43m,\u001b[49m\n\u001b[0;32m    215\u001b[0m \u001b[43m        \u001b[49m\u001b[43mdrop_first\u001b[49m\u001b[38;5;241;43m=\u001b[39;49m\u001b[43mdrop_first\u001b[49m\u001b[43m,\u001b[49m\n\u001b[0;32m    216\u001b[0m \u001b[43m        \u001b[49m\u001b[43mdtype\u001b[49m\u001b[38;5;241;43m=\u001b[39;49m\u001b[43mdtype\u001b[49m\u001b[43m,\u001b[49m\n\u001b[0;32m    217\u001b[0m \u001b[43m    \u001b[49m\u001b[43m)\u001b[49m\n\u001b[0;32m    218\u001b[0m     with_dummies\u001b[38;5;241m.\u001b[39mappend(dummy)\n\u001b[0;32m    219\u001b[0m result \u001b[38;5;241m=\u001b[39m concat(with_dummies, axis\u001b[38;5;241m=\u001b[39m\u001b[38;5;241m1\u001b[39m)\n",
            "File \u001b[1;32mc:\\Users\\doruk\\anaconda3\\Lib\\site-packages\\pandas\\core\\reshape\\encoding.py:330\u001b[0m, in \u001b[0;36m_get_dummies_1d\u001b[1;34m(data, prefix, prefix_sep, dummy_na, sparse, drop_first, dtype)\u001b[0m\n\u001b[0;32m    328\u001b[0m \u001b[38;5;28;01melse\u001b[39;00m:\n\u001b[0;32m    329\u001b[0m     eye_dtype \u001b[38;5;241m=\u001b[39m np\u001b[38;5;241m.\u001b[39mbool_\n\u001b[1;32m--> 330\u001b[0m dummy_mat \u001b[38;5;241m=\u001b[39m \u001b[43mnp\u001b[49m\u001b[38;5;241;43m.\u001b[39;49m\u001b[43meye\u001b[49m\u001b[43m(\u001b[49m\u001b[43mnumber_of_cols\u001b[49m\u001b[43m,\u001b[49m\u001b[43m \u001b[49m\u001b[43mdtype\u001b[49m\u001b[38;5;241;43m=\u001b[39;49m\u001b[43meye_dtype\u001b[49m\u001b[43m)\u001b[49m\u001b[38;5;241;43m.\u001b[39;49m\u001b[43mtake\u001b[49m\u001b[43m(\u001b[49m\u001b[43mcodes\u001b[49m\u001b[43m,\u001b[49m\u001b[43m \u001b[49m\u001b[43maxis\u001b[49m\u001b[38;5;241;43m=\u001b[39;49m\u001b[38;5;241;43m1\u001b[39;49m\u001b[43m)\u001b[49m\u001b[38;5;241m.\u001b[39mT\n\u001b[0;32m    332\u001b[0m \u001b[38;5;28;01mif\u001b[39;00m \u001b[38;5;129;01mnot\u001b[39;00m dummy_na:\n\u001b[0;32m    333\u001b[0m     \u001b[38;5;66;03m# reset NaN GH4446\u001b[39;00m\n\u001b[0;32m    334\u001b[0m     dummy_mat[codes \u001b[38;5;241m==\u001b[39m \u001b[38;5;241m-\u001b[39m\u001b[38;5;241m1\u001b[39m] \u001b[38;5;241m=\u001b[39m \u001b[38;5;241m0\u001b[39m\n",
            "\u001b[1;31mMemoryError\u001b[0m: Unable to allocate 11.2 GiB for an array with shape (917, 3284229) and data type int32"
          ]
        }
      ],
      "source": [
        "# All the column names that include \"price\"or \"precip\" or \"temperature\" in list format case insensitive\n",
        "numeric_variables = [col for col in event_data.columns if any(substring.lower() in col.lower() for substring in [\"price\", \"precip\",\"temperature\"])]\n",
        "numeric_variables\n",
        "\n",
        "#All the collumns excpet the ones in numeric_variables and EVENT\n",
        "nonnumeric_variables = [col for col in event_data.columns if ((col not in numeric_variables) & (col not in target_variable))]\n",
        "nonnumeric_variables\n",
        "\n",
        "#From te event_data create a dataset where it converts all nonnumeric_variables to dummies\n",
        "tiny_transformed_event_df = pd.get_dummies(event_data, columns=nonnumeric_variables,dtype = int)\n",
        "\n",
        "#From tiny_transformed_event_df select nonnumeric collumns names that doesn't have EVENT or numeric_variables in it\n",
        "categorical_variables = [col for col in tiny_transformed_event_df.columns if((col not in numeric_variables) & (col not in target_variable))]\n",
        "categorical_variables\n",
        "\n",
        "#Select the collumns numeric_variables + categorical_variables from the data\n",
        "independent_variables = tiny_transformed_event_df[numeric_variables + categorical_variables]\n",
        "\n",
        "#Dependent Variable\n",
        "dependent_variable = tiny_transformed_event_df[target_variable]"
      ]
    },
    {
      "cell_type": "code",
      "execution_count": null,
      "id": "13e50cf1",
      "metadata": {
        "id": "13e50cf1"
      },
      "outputs": [],
      "source": [
        "# # Normalize the numeric variables\n",
        "# scaler = StandardScaler()\n",
        "# tiny_transformed_event_df[numeric_variables] = scaler.fit_transform(tiny_transformed_event_df[numeric_variables])\n",
        "\n",
        "# #Select the collumns numeric_variables + categorical_variables from the data\n",
        "# tiny_transformed_event_df[numeric_variables] = tiny_transformed_event_df[numeric_variables]"
      ]
    },
    {
      "cell_type": "code",
      "execution_count": null,
      "id": "8500f5eafb4b3e01",
      "metadata": {
        "id": "8500f5eafb4b3e01"
      },
      "outputs": [],
      "source": [
        "#Train/Test Split\n",
        "X_train, X_test, y_train, y_test = train_test_split(independent_variables, dependent_variable, test_size=0.2, random_state=42)\n",
        "\n",
        "#Convert to tensor type\n",
        "X_train = torch.tensor(X_train.to_numpy(), dtype=torch.float32)\n",
        "y_train = torch.tensor(y_train.values, dtype=torch.float32)"
      ]
    },
    {
      "cell_type": "code",
      "execution_count": null,
      "id": "af5445e9",
      "metadata": {
        "collapsed": true,
        "id": "af5445e9",
        "outputId": "1a8399ac-6f58-43f9-a3b0-6779e30dfadb"
      },
      "outputs": [
        {
          "name": "stdout",
          "output_type": "stream",
          "text": [
            "Using device: cuda\n",
            "Epoch 1\n",
            "Loss after epoch     1: 2167.986\n",
            "Epoch 2\n",
            "Loss after epoch     2: 2024.153\n",
            "Epoch 3\n",
            "Loss after epoch     3: 1975.676\n",
            "Epoch 4\n",
            "Loss after epoch     4: 1934.390\n",
            "Epoch 5\n",
            "Loss after epoch     5: 1890.510\n",
            "Training finished!\n"
          ]
        }
      ],
      "source": [
        "'''\n",
        "    Multilayer Perceptron\n",
        "'''\n",
        "class MLP(nn.Module):\n",
        "\n",
        "    def __init__(self,n):\n",
        "        super().__init__()\n",
        "        self.layers = nn.Sequential(\n",
        "            nn.Flatten(),\n",
        "            nn.Linear(n, 1500),\n",
        "            nn.ReLU(),\n",
        "            nn.Linear(1500, 500),\n",
        "            nn.ReLU(),\n",
        "            nn.Linear(500, 100),\n",
        "            nn.ReLU(),\n",
        "            nn.Linear(100, 10),\n",
        "            nn.ReLU(),\n",
        "            nn.Linear(10, 1),\n",
        "            nn.Sigmoid()\n",
        "        )\n",
        "\n",
        "    def forward(self, x):\n",
        "        '''Forward pass'''\n",
        "        return self.layers(x)\n",
        "\n",
        "if __name__ == '__main__':\n",
        "    # Check if GPU is available\n",
        "    device = torch.device(\"cuda\" if torch.cuda.is_available() else \"cpu\")\n",
        "    print(f'Using device: {device}')\n",
        "\n",
        "    # Hyperparameters\n",
        "    batch_size = 64\n",
        "    learning_rate = 1e-4\n",
        "    epochs = 5\n",
        "\n",
        "    # Set fixed random seed\n",
        "    torch.manual_seed(42)\n",
        "\n",
        "    # Assume X_train and y_train are already defined and preprocessed\n",
        "\n",
        "    # Create dataset and dataloader\n",
        "    train_data = torch.utils.data.TensorDataset(X_train, y_train)\n",
        "    trainloader = DataLoader(train_data, batch_size=batch_size, shuffle=True)\n",
        "\n",
        "    # Initialize the network and move it to the device\n",
        "    mlp = MLP(n=int(X_train.shape[1])).to(device)\n",
        "\n",
        "    # Define loss function and optimizer\n",
        "    loss_function = nn.BCELoss()\n",
        "    optimizer = torch.optim.Adam(mlp.parameters(), lr=learning_rate)\n",
        "\n",
        "    # Training loop\n",
        "    for epoch in range(epochs):\n",
        "        print('Epoch %s' % (epoch + 1))\n",
        "        current_loss = 0.0\n",
        "\n",
        "        for i, data in enumerate(trainloader, 0):\n",
        "            inputs, targets = data\n",
        "            inputs, targets = inputs.to(device), targets.to(device)\n",
        "\n",
        "            # Reshape targets to match the model output shape\n",
        "            targets = targets.view(-1, 1)\n",
        "\n",
        "            optimizer.zero_grad()\n",
        "            outputs = mlp(inputs)\n",
        "            loss = loss_function(outputs, targets)\n",
        "            loss.backward()\n",
        "            optimizer.step()\n",
        "            current_loss += loss.item()\n",
        "\n",
        "        print('Loss after epoch %5d: %.3f' % (epoch + 1, current_loss))\n",
        "\n",
        "    print('Training finished!')"
      ]
    },
    {
      "cell_type": "code",
      "execution_count": null,
      "id": "301b5026",
      "metadata": {
        "id": "301b5026"
      },
      "outputs": [],
      "source": [
        "from sklearn.metrics import confusion_matrix\n",
        "from sklearn.metrics import classification_report"
      ]
    },
    {
      "cell_type": "code",
      "execution_count": null,
      "id": "dspWUqA9HNQL",
      "metadata": {
        "id": "dspWUqA9HNQL",
        "outputId": "00ba58de-7059-451a-ae78-85f79530fd86"
      },
      "outputs": [
        {
          "data": {
            "image/png": "[encoded data removed]",
            "text/plain": [
              "<Figure size 800x600 with 2 Axes>"
            ]
          },
          "metadata": {},
          "output_type": "display_data"
        },
        {
          "name": "stdout",
          "output_type": "stream",
          "text": [
            "R^2 Score: 0.0648\n",
            "MSE: 0.2230\n",
            "MAE: 0.2230\n"
          ]
        }
      ],
      "source": [
        "# Create a dataset for testing\n",
        "\n",
        "batch_size = 64\n",
        "#Convert to tensor type\n",
        "X_test = torch.tensor(X_test.to_numpy(), dtype=torch.float32)\n",
        "y_test = torch.tensor(y_test.values, dtype=torch.float32)\n",
        "\n",
        "# Create a dataset for testing\n",
        "test_data = torch.utils.data.TensorDataset(X_test, y_test)\n",
        "testloader = torch.utils.data.DataLoader(test_data, batch_size=batch_size, shuffle=False)\n",
        "\n",
        "# Switch to evaluation mode\n",
        "mlp.eval()\n",
        "\n",
        "# Generate predictions for the entire test set\n",
        "all_predicted = []\n",
        "all_targets = []\n",
        "\n",
        "with torch.no_grad():\n",
        "    for data in testloader:\n",
        "        inputs, targets = data\n",
        "        inputs, targets = inputs.to(device), targets.to(device)  # Move data to the device\n",
        "        outputs = mlp(inputs)\n",
        "        predicted = (outputs > 0.5).float()  # For binary classification, apply threshold\n",
        "        all_predicted.extend(predicted.cpu().tolist())\n",
        "        all_targets.extend(targets.cpu().tolist())\n",
        "\n",
        "# Compute confusion matrix\n",
        "conf_matrix = confusion_matrix(all_targets, all_predicted)\n",
        "\n",
        "# Plot confusion matrix\n",
        "plt.figure(figsize=(8, 6))\n",
        "sns.heatmap(conf_matrix, annot=True, annot_kws={'size': 12}, fmt=\"d\", cmap=\"Blues\",\n",
        "            xticklabels=np.arange(conf_matrix.shape[1]), yticklabels=np.arange(conf_matrix.shape[0]),\n",
        "            vmin=0, vmax=np.max(conf_matrix))  # Adjust vmin and vmax for better visibility of values\n",
        "plt.xlabel('Predicted')\n",
        "plt.ylabel('True')\n",
        "plt.title('Confusion Matrix')\n",
        "plt.show()\n",
        "\n",
        "# Print R^2, MSE, and MAE scores\n",
        "from sklearn.metrics import r2_score, mean_squared_error, mean_absolute_error\n",
        "\n",
        "r2 = r2_score(all_targets, all_predicted)\n",
        "mse = mean_squared_error(all_targets, all_predicted)\n",
        "mae = mean_absolute_error(all_targets, all_predicted)\n",
        "\n",
        "print(f\"R^2 Score: {r2:.4f}\")\n",
        "print(f\"MSE: {mse:.4f}\")\n",
        "print(f\"MAE: {mae:.4f}\")"
      ]
    },
    {
      "cell_type": "code",
      "execution_count": null,
      "id": "5f1d9e5d",
      "metadata": {
        "id": "5f1d9e5d",
        "outputId": "50b00576-a535-475f-d655-901b1b0e29cc"
      },
      "outputs": [
        {
          "name": "stdout",
          "output_type": "stream",
          "text": [
            "              precision    recall  f1-score   support\n",
            "\n",
            "         0.0       0.85      0.53      0.65     25807\n",
            "         1.0       0.75      0.94      0.84     39896\n",
            "\n",
            "    accuracy                           0.78     65703\n",
            "   macro avg       0.80      0.73      0.74     65703\n",
            "weighted avg       0.79      0.78      0.76     65703\n",
            "\n"
          ]
        }
      ],
      "source": [
        "# Generate classification report\n",
        "report = classification_report(all_targets, all_predicted)\n",
        "\n",
        "# Print the classification report\n",
        "print(report)"
      ]
    },
    {
      "cell_type": "code",
      "execution_count": null,
      "id": "30ffba3f",
      "metadata": {
        "id": "30ffba3f",
        "outputId": "220ad18c-1889-49f0-d463-f4887335cee0"
      },
      "outputs": [
        {
          "name": "stdout",
          "output_type": "stream",
          "text": [
            "Trained model saved as \"trained_model.pth\"\n"
          ]
        }
      ],
      "source": [
        "# Save the trained model\n",
        "torch.save(mlp.state_dict(), 'trained_model.pth')\n",
        "print('Trained model saved as \"trained_model.pth\"')"
      ]
    },
    {
      "cell_type": "code",
      "execution_count": null,
      "id": "ceed8a6d",
      "metadata": {
        "id": "ceed8a6d"
      },
      "outputs": [],
      "source": [
        "# Function to make predictions using the trained model\n",
        "def predict(model, input_data, device):\n",
        "    model.eval()  # Set the model to evaluation mode\n",
        "    input_data = torch.tensor(input_data, dtype=torch.float32).to(device)\n",
        "    with torch.no_grad():  # Disable gradient computation\n",
        "        output = model(input_data)\n",
        "    return output.cpu().numpy()"
      ]
    },
    {
      "cell_type": "code",
      "execution_count": null,
      "id": "e09883c0",
      "metadata": {
        "id": "e09883c0",
        "outputId": "a88d566e-a0a4-46f9-8ac3-69d5908f6cb3"
      },
      "outputs": [
        {
          "data": {
            "text/plain": [
              "torch.Size([262809, 1099])"
            ]
          },
          "execution_count": 113,
          "metadata": {},
          "output_type": "execute_result"
        }
      ],
      "source": [
        "X_train.shape"
      ]
    },
    {
      "cell_type": "code",
      "execution_count": null,
      "id": "4ef72e6d",
      "metadata": {
        "id": "4ef72e6d"
      },
      "outputs": [],
      "source": [
        "class MLP(nn.Module):\n",
        "\n",
        "    def __init__(self,n):\n",
        "        super().__init__()\n",
        "        self.layers = nn.Sequential(\n",
        "            nn.Flatten(),\n",
        "            nn.Linear(n, 1500),\n",
        "            nn.ReLU(),\n",
        "            nn.Linear(1500, 500),\n",
        "            nn.ReLU(),\n",
        "            nn.Linear(500, 100),\n",
        "            nn.ReLU(),\n",
        "            nn.Linear(100, 10),\n",
        "            nn.ReLU(),\n",
        "            nn.Linear(10, 1),\n",
        "            nn.Sigmoid()\n",
        "        )\n",
        "\n",
        "    def forward(self, x):\n",
        "        '''Forward pass'''\n",
        "        return self.layers(x)\n",
        "\n",
        "class NN_MODEL:\n",
        "    def __init__(self,batch_size=64, seed=42):\n",
        "        self.device = torch.device(\"cuda\" if torch.cuda.is_available() else \"cpu\")\n",
        "        self.batch_size = batch_size\n",
        "        self.seed = seed\n",
        "        self.model = None  # Placeholder for the model\n",
        "\n",
        "    def load(self, path='trained_model.pth'):\n",
        "        # Load the model's state dictionary\n",
        "        state_dict = torch.load(path, map_location=self.device)\n",
        "\n",
        "        # Construct an instance of the model class\n",
        "        self.model = MLP(n=1099)\n",
        "        self.model.load_state_dict(state_dict)\n",
        "        self.model.to(self.device)\n",
        "        self.model.eval()  # Set the model to evaluation mode\n",
        "        print('Model loaded!')\n",
        "\n",
        "    def format(input_data):\n",
        "        pass\n",
        "\n",
        "    def predict(self, input_data):\n",
        "        if self.model is None:\n",
        "            print('Error: Model not loaded!')\n",
        "            return\n",
        "\n",
        "        input_data = torch.tensor(input_data, dtype=torch.float32).to(self.device)\n",
        "        with torch.no_grad():\n",
        "            output = self.model(input_data)\n",
        "        return output.cpu().numpy()"
      ]
    },
    {
      "cell_type": "code",
      "execution_count": null,
      "metadata": {
        "id": "BHM-YVZ_TuZj",
        "outputId": "b1d2d446-5000-45a7-9601-2de0f1bc5f49"
      },
      "outputs": [
        {
          "name": "stdout",
          "output_type": "stream",
          "text": [
            "Model loaded!\n"
          ]
        }
      ],
      "source": [
        "test_model = NN_MODEL()\n",
        "test_model.load()"
      ],
      "id": "BHM-YVZ_TuZj"
    }
  ],
  "metadata": {
    "colab": {
      "provenance": []
    },
    "kernelspec": {
      "display_name": "Python 3",
      "language": "python",
      "name": "python3"
    },
    "language_info": {
      "codemirror_mode": {
        "name": "ipython",
        "version": 3
      },
      "file_extension": ".py",
      "mimetype": "text/x-python",
      "name": "python",
      "nbconvert_exporter": "python",
      "pygments_lexer": "ipython3",
      "version": "3.11.9"
    }
  },
  "nbformat": 4,
  "nbformat_minor": 5
}